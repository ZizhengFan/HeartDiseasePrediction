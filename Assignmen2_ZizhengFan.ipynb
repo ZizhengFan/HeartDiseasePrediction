{
 "cells": [
  {
   "cell_type": "code",
   "execution_count": 107,
   "metadata": {},
   "outputs": [],
   "source": [
    "import numpy as np\n",
    "import pandas as pd\n",
    "from matplotlib import pyplot as plt\n",
    "import seaborn as sns\n",
    "sns.set(color_codes=True)\n",
    "import pickle\n",
    "\n",
    "import warnings\n",
    "warnings.filterwarnings('ignore')"
   ]
  },
  {
   "cell_type": "markdown",
   "metadata": {},
   "source": [
    "Sklearn"
   ]
  },
  {
   "cell_type": "code",
   "execution_count": 108,
   "metadata": {},
   "outputs": [],
   "source": [
    "from sklearn.preprocessing import LabelEncoder\n",
    "from sklearn.preprocessing import StandardScaler\n",
    "from sklearn.model_selection import train_test_split\n",
    "from sklearn.model_selection import GridSearchCV\n",
    "from sklearn.metrics import classification_report,confusion_matrix, roc_curve, auc\n",
    "from sklearn.metrics import accuracy_score, f1_score, precision_score, recall_score\n",
    "from sklearn.model_selection import learning_curve\n",
    "from sklearn.model_selection import ShuffleSplit\n",
    "from sklearn.ensemble import RandomForestClassifier\n",
    "from sklearn.model_selection import RepeatedStratifiedKFold"
   ]
  },
  {
   "cell_type": "markdown",
   "metadata": {},
   "source": [
    "KNN Package"
   ]
  },
  {
   "cell_type": "code",
   "execution_count": 109,
   "metadata": {},
   "outputs": [],
   "source": [
    "from sklearn.neighbors import KNeighborsClassifier"
   ]
  },
  {
   "cell_type": "markdown",
   "metadata": {},
   "source": [
    "SVM Package"
   ]
  },
  {
   "cell_type": "code",
   "execution_count": 110,
   "metadata": {},
   "outputs": [],
   "source": [
    "from sklearn.svm import SVC"
   ]
  },
  {
   "cell_type": "markdown",
   "metadata": {},
   "source": [
    "DT Package"
   ]
  },
  {
   "cell_type": "code",
   "execution_count": 111,
   "metadata": {},
   "outputs": [],
   "source": [
    "from sklearn.tree import DecisionTreeClassifier"
   ]
  },
  {
   "cell_type": "markdown",
   "metadata": {},
   "source": [
    "XGBoost Package"
   ]
  },
  {
   "cell_type": "code",
   "execution_count": 112,
   "metadata": {},
   "outputs": [],
   "source": [
    "import xgboost as xgb"
   ]
  },
  {
   "cell_type": "markdown",
   "metadata": {},
   "source": [
    "Ensemble Voting Package"
   ]
  },
  {
   "cell_type": "code",
   "execution_count": 113,
   "metadata": {},
   "outputs": [],
   "source": [
    "from sklearn.ensemble import VotingClassifier"
   ]
  },
  {
   "cell_type": "markdown",
   "metadata": {},
   "source": [
    "Deeplearning Package"
   ]
  },
  {
   "cell_type": "code",
   "execution_count": 114,
   "metadata": {},
   "outputs": [],
   "source": [
    "from keras.models import Sequential\n",
    "from keras.layers import Dense, Dropout, Conv1D, MaxPooling1D, Flatten\n",
    "from keras.layers.core import Dense, Activation\n",
    "from keras.utils import np_utils\n",
    "import tensorflow as tf"
   ]
  },
  {
   "cell_type": "markdown",
   "metadata": {},
   "source": [
    "Data loading"
   ]
  },
  {
   "cell_type": "code",
   "execution_count": 115,
   "metadata": {},
   "outputs": [
    {
     "data": {
      "text/html": [
       "<div>\n",
       "<style scoped>\n",
       "    .dataframe tbody tr th:only-of-type {\n",
       "        vertical-align: middle;\n",
       "    }\n",
       "\n",
       "    .dataframe tbody tr th {\n",
       "        vertical-align: top;\n",
       "    }\n",
       "\n",
       "    .dataframe thead th {\n",
       "        text-align: right;\n",
       "    }\n",
       "</style>\n",
       "<table border=\"1\" class=\"dataframe\">\n",
       "  <thead>\n",
       "    <tr style=\"text-align: right;\">\n",
       "      <th></th>\n",
       "      <th>Age</th>\n",
       "      <th>Sex</th>\n",
       "      <th>ChestPainType</th>\n",
       "      <th>RestingBP</th>\n",
       "      <th>Cholesterol</th>\n",
       "      <th>FastingBS</th>\n",
       "      <th>RestingECG</th>\n",
       "      <th>MaxHR</th>\n",
       "      <th>ExerciseAngina</th>\n",
       "      <th>Oldpeak</th>\n",
       "      <th>ST_Slope</th>\n",
       "      <th>HeartDisease</th>\n",
       "    </tr>\n",
       "  </thead>\n",
       "  <tbody>\n",
       "    <tr>\n",
       "      <th>0</th>\n",
       "      <td>40</td>\n",
       "      <td>M</td>\n",
       "      <td>ATA</td>\n",
       "      <td>140</td>\n",
       "      <td>289</td>\n",
       "      <td>0</td>\n",
       "      <td>Normal</td>\n",
       "      <td>172</td>\n",
       "      <td>N</td>\n",
       "      <td>0.0</td>\n",
       "      <td>Up</td>\n",
       "      <td>0</td>\n",
       "    </tr>\n",
       "    <tr>\n",
       "      <th>1</th>\n",
       "      <td>49</td>\n",
       "      <td>F</td>\n",
       "      <td>NAP</td>\n",
       "      <td>160</td>\n",
       "      <td>180</td>\n",
       "      <td>0</td>\n",
       "      <td>Normal</td>\n",
       "      <td>156</td>\n",
       "      <td>N</td>\n",
       "      <td>1.0</td>\n",
       "      <td>Flat</td>\n",
       "      <td>1</td>\n",
       "    </tr>\n",
       "    <tr>\n",
       "      <th>2</th>\n",
       "      <td>37</td>\n",
       "      <td>M</td>\n",
       "      <td>ATA</td>\n",
       "      <td>130</td>\n",
       "      <td>283</td>\n",
       "      <td>0</td>\n",
       "      <td>ST</td>\n",
       "      <td>98</td>\n",
       "      <td>N</td>\n",
       "      <td>0.0</td>\n",
       "      <td>Up</td>\n",
       "      <td>0</td>\n",
       "    </tr>\n",
       "    <tr>\n",
       "      <th>3</th>\n",
       "      <td>48</td>\n",
       "      <td>F</td>\n",
       "      <td>ASY</td>\n",
       "      <td>138</td>\n",
       "      <td>214</td>\n",
       "      <td>0</td>\n",
       "      <td>Normal</td>\n",
       "      <td>108</td>\n",
       "      <td>Y</td>\n",
       "      <td>1.5</td>\n",
       "      <td>Flat</td>\n",
       "      <td>1</td>\n",
       "    </tr>\n",
       "    <tr>\n",
       "      <th>4</th>\n",
       "      <td>54</td>\n",
       "      <td>M</td>\n",
       "      <td>NAP</td>\n",
       "      <td>150</td>\n",
       "      <td>195</td>\n",
       "      <td>0</td>\n",
       "      <td>Normal</td>\n",
       "      <td>122</td>\n",
       "      <td>N</td>\n",
       "      <td>0.0</td>\n",
       "      <td>Up</td>\n",
       "      <td>0</td>\n",
       "    </tr>\n",
       "  </tbody>\n",
       "</table>\n",
       "</div>"
      ],
      "text/plain": [
       "   Age Sex ChestPainType  RestingBP  Cholesterol  FastingBS RestingECG  MaxHR  \\\n",
       "0   40   M           ATA        140          289          0     Normal    172   \n",
       "1   49   F           NAP        160          180          0     Normal    156   \n",
       "2   37   M           ATA        130          283          0         ST     98   \n",
       "3   48   F           ASY        138          214          0     Normal    108   \n",
       "4   54   M           NAP        150          195          0     Normal    122   \n",
       "\n",
       "  ExerciseAngina  Oldpeak ST_Slope  HeartDisease  \n",
       "0              N      0.0       Up             0  \n",
       "1              N      1.0     Flat             1  \n",
       "2              N      0.0       Up             0  \n",
       "3              Y      1.5     Flat             1  \n",
       "4              N      0.0       Up             0  "
      ]
     },
     "execution_count": 115,
     "metadata": {},
     "output_type": "execute_result"
    }
   ],
   "source": [
    "# with open('heart.pickle','rb') as read_file:\n",
    "#     df_raw = pickle.load(read_file)\n",
    "df_raw = pd.read_csv('heart.csv')\n",
    "\n",
    "df = df_raw.copy()\n",
    "df.head()"
   ]
  },
  {
   "cell_type": "markdown",
   "metadata": {},
   "source": [
    "The basic information of the dataset:\n",
    "- Age: age of the patient [years] \n",
    "- Sex: sex of the patient [M: Male, F: Female] \n",
    "- ChestPainType: chest pain type [TA: Typical Angina, ATA: Atypical Angina, NAP: Non-Anginal Pain, ASY: Asymptomatic] \n",
    "- RestingBP: resting blood pressure [mm Hg] \n",
    "- Cholesterol: serum cholesterol [mm/dl] \n",
    "- FastingBS: fasting blood sugar [1: if FastingBS > 120 mg/dl, 0: otherwise] \n",
    "- RestingECG: resting electrocardiogram results [Normal: Normal, ST: having ST-T wave abnormality (T wave inversions and/or ST elevation or depression of > 0.05 mV), LVH: showing probable or definite left ventricular hypertrophy by Estes' criteria]\n",
    "- MaxHR: maximum heart rate achieved [Numeric value between 60 and 202] \n",
    "- ExerciseAngina: exercise-induced angina [Y: Yes, N: No] \n",
    "- Oldpeak: oldpeak = ST [Numeric value measured in depression] \n",
    "- ST_Slope: the slope of the peak exercise ST segment [Up: upsloping, Flat: flat, Down: downsloping] \n",
    "\n",
    "- HeartDisease: output class [1: heart disease, 0: Normal]"
   ]
  },
  {
   "cell_type": "code",
   "execution_count": 116,
   "metadata": {},
   "outputs": [
    {
     "name": "stdout",
     "output_type": "stream",
     "text": [
      "Age\n",
      "54    0.055556\n",
      "58    0.045752\n",
      "55    0.044662\n",
      "56    0.041394\n",
      "57    0.041394\n",
      "52    0.039216\n",
      "51    0.038126\n",
      "59    0.038126\n",
      "62    0.038126\n",
      "53    0.035948\n",
      "60    0.034858\n",
      "48    0.033769\n",
      "61    0.033769\n",
      "63    0.032680\n",
      "50    0.027233\n",
      "46    0.026144\n",
      "41    0.026144\n",
      "43    0.026144\n",
      "64    0.023965\n",
      "65    0.022876\n",
      "49    0.022876\n",
      "47    0.020697\n",
      "44    0.020697\n",
      "42    0.019608\n",
      "45    0.019608\n",
      "38    0.017429\n",
      "67    0.016340\n",
      "39    0.016340\n",
      "66    0.014161\n",
      "69    0.014161\n",
      "40    0.014161\n",
      "35    0.011983\n",
      "37    0.011983\n",
      "68    0.010893\n",
      "34    0.007625\n",
      "74    0.007625\n",
      "70    0.007625\n",
      "36    0.006536\n",
      "71    0.005447\n",
      "32    0.005447\n",
      "72    0.004357\n",
      "29    0.003268\n",
      "75    0.003268\n",
      "33    0.002179\n",
      "77    0.002179\n",
      "76    0.002179\n",
      "31    0.002179\n",
      "30    0.001089\n",
      "28    0.001089\n",
      "73    0.001089\n",
      "Name: Age, dtype: float64\n",
      "\n",
      "\n",
      "Sex\n",
      "M    0.78976\n",
      "F    0.21024\n",
      "Name: Sex, dtype: float64\n",
      "\n",
      "\n",
      "ChestPainType\n",
      "ASY    0.540305\n",
      "NAP    0.221133\n",
      "ATA    0.188453\n",
      "TA     0.050109\n",
      "Name: ChestPainType, dtype: float64\n",
      "\n",
      "\n",
      "RestingBP\n",
      "120    0.143791\n",
      "130    0.128540\n",
      "140    0.116558\n",
      "110    0.063181\n",
      "150    0.059913\n",
      "         ...   \n",
      "185    0.001089\n",
      "98     0.001089\n",
      "92     0.001089\n",
      "113    0.001089\n",
      "164    0.001089\n",
      "Name: RestingBP, Length: 67, dtype: float64\n",
      "\n",
      "\n",
      "Cholesterol\n",
      "0      0.187364\n",
      "254    0.011983\n",
      "223    0.010893\n",
      "220    0.010893\n",
      "230    0.009804\n",
      "         ...   \n",
      "392    0.001089\n",
      "316    0.001089\n",
      "153    0.001089\n",
      "466    0.001089\n",
      "131    0.001089\n",
      "Name: Cholesterol, Length: 222, dtype: float64\n",
      "\n",
      "\n",
      "FastingBS\n",
      "0    0.766885\n",
      "1    0.233115\n",
      "Name: FastingBS, dtype: float64\n",
      "\n",
      "\n",
      "RestingECG\n",
      "Normal    0.601307\n",
      "LVH       0.204793\n",
      "ST        0.193900\n",
      "Name: RestingECG, dtype: float64\n",
      "\n",
      "\n",
      "MaxHR\n",
      "150    0.046841\n",
      "140    0.044662\n",
      "120    0.039216\n",
      "130    0.035948\n",
      "160    0.027233\n",
      "         ...   \n",
      "63     0.001089\n",
      "83     0.001089\n",
      "60     0.001089\n",
      "78     0.001089\n",
      "202    0.001089\n",
      "Name: MaxHR, Length: 119, dtype: float64\n",
      "\n",
      "\n",
      "ExerciseAngina\n",
      "N    0.595861\n",
      "Y    0.404139\n",
      "Name: ExerciseAngina, dtype: float64\n",
      "\n",
      "\n",
      "Oldpeak\n",
      " 0.0    0.400871\n",
      " 1.0    0.093682\n",
      " 2.0    0.082789\n",
      " 1.5    0.057734\n",
      " 3.0    0.030501\n",
      " 1.2    0.028322\n",
      " 0.2    0.023965\n",
      " 0.5    0.020697\n",
      " 1.4    0.019608\n",
      " 1.8    0.018519\n",
      " 2.5    0.017429\n",
      " 0.8    0.017429\n",
      " 1.6    0.017429\n",
      " 0.1    0.015251\n",
      " 0.6    0.015251\n",
      " 0.4    0.011983\n",
      " 0.3    0.011983\n",
      " 4.0    0.008715\n",
      " 0.7    0.007625\n",
      " 2.8    0.007625\n",
      " 1.9    0.007625\n",
      " 1.3    0.007625\n",
      " 2.6    0.007625\n",
      " 1.1    0.007625\n",
      " 1.7    0.006536\n",
      " 2.2    0.005447\n",
      " 0.9    0.004357\n",
      " 2.4    0.004357\n",
      " 3.6    0.004357\n",
      " 3.4    0.003268\n",
      " 4.2    0.002179\n",
      " 3.5    0.002179\n",
      "-0.5    0.002179\n",
      " 2.3    0.002179\n",
      " 3.2    0.002179\n",
      " 2.1    0.002179\n",
      "-1.0    0.002179\n",
      "-0.1    0.002179\n",
      " 5.6    0.001089\n",
      " 2.9    0.001089\n",
      " 6.2    0.001089\n",
      " 3.8    0.001089\n",
      "-1.5    0.001089\n",
      " 3.1    0.001089\n",
      "-2.0    0.001089\n",
      " 3.7    0.001089\n",
      "-0.8    0.001089\n",
      "-0.7    0.001089\n",
      "-1.1    0.001089\n",
      "-2.6    0.001089\n",
      "-0.9    0.001089\n",
      " 5.0    0.001089\n",
      " 4.4    0.001089\n",
      "Name: Oldpeak, dtype: float64\n",
      "\n",
      "\n",
      "ST_Slope\n",
      "Flat    0.501089\n",
      "Up      0.430283\n",
      "Down    0.068627\n",
      "Name: ST_Slope, dtype: float64\n",
      "\n",
      "\n",
      "HeartDisease\n",
      "1    0.553377\n",
      "0    0.446623\n",
      "Name: HeartDisease, dtype: float64\n",
      "\n",
      "\n"
     ]
    }
   ],
   "source": [
    "for col in df.columns:\n",
    "    print(col)\n",
    "    print(df[col].value_counts(sort=True, normalize=True))\n",
    "    print('\\n')"
   ]
  },
  {
   "cell_type": "markdown",
   "metadata": {},
   "source": [
    "Requirement：Univariate analysis\n",
    "\n",
    "Using a histogram, plot a distribution of the numerical values"
   ]
  },
  {
   "cell_type": "code",
   "execution_count": 117,
   "metadata": {},
   "outputs": [
    {
     "data": {
      "image/png": "[encoded data removed]",
      "text/plain": [
       "<Figure size 720x1080 with 9 Axes>"
      ]
     },
     "metadata": {},
     "output_type": "display_data"
    }
   ],
   "source": [
    "df.hist(bins=7,figsize=(10,15))\n",
    "plt.show()"
   ]
  },
  {
   "cell_type": "markdown",
   "metadata": {},
   "source": [
    "Requirement：Bivariate analysis (1)\n",
    "\n",
    "Plot a histogram showing the age against the target variable (positive vs. negative cases)"
   ]
  },
  {
   "cell_type": "code",
   "execution_count": 118,
   "metadata": {},
   "outputs": [
    {
     "data": {
      "image/png": "[encoded data removed]",
      "text/plain": [
       "<Figure size 1440x720 with 1 Axes>"
      ]
     },
     "metadata": {},
     "output_type": "display_data"
    }
   ],
   "source": [
    "# ‘hue’ is used to visualize the effect of an additional variable to the current distribution.\n",
    "plt.figure(figsize=(20,10))\n",
    "sns.set_style(style='whitegrid')\n",
    "sns.countplot(df.Age.astype(int), hue = df.HeartDisease)\n",
    "plt.show()"
   ]
  },
  {
   "cell_type": "markdown",
   "metadata": {},
   "source": [
    "Requirement：Bivariate analysis (2)\n",
    "\n",
    "Compare the median age for male and female using a boxplot"
   ]
  },
  {
   "cell_type": "code",
   "execution_count": 119,
   "metadata": {},
   "outputs": [
    {
     "data": {
      "image/png": "[encoded data removed]",
      "text/plain": [
       "<Figure size 360x720 with 2 Axes>"
      ]
     },
     "metadata": {},
     "output_type": "display_data"
    },
    {
     "name": "stdout",
     "output_type": "stream",
     "text": [
      "The median age of male and female are 55.0 and 53.0\n"
     ]
    }
   ],
   "source": [
    "M_df= df.loc[df['Sex'] == 'M']\n",
    "F_df = df.loc[df['Sex'] == 'F']\n",
    "\n",
    "plt.figure(figsize=(5, 10))\n",
    "plt.subplot(2, 1, 1)\n",
    "sns.boxplot(x='Age', data=M_df)\n",
    "plt.title(\"The age distribution of male\")\n",
    "plt.subplot(2, 1, 2)\n",
    "sns.boxplot(x='Age', data=F_df)\n",
    "plt.title(\"The age distribution of female\")\n",
    "\n",
    "plt.show()\n",
    "\n",
    "print(\"The median age of male and female are {} and {}\"\n",
    "      .format(M_df['Age'].median(), F_df['Age'].median()))"
   ]
  },
  {
   "cell_type": "markdown",
   "metadata": {},
   "source": [
    "Requirement： Feature Engineering (4)\n",
    "\n",
    "Convert categorical data into numerical data using one-hot encoding or any other label encoding approach\n",
    "\n",
    "hard_encode [Sex, ChestPainType, RestingECG, ExerciseAngina, ST_Slope]"
   ]
  },
  {
   "cell_type": "code",
   "execution_count": 120,
   "metadata": {},
   "outputs": [
    {
     "data": {
      "text/html": [
       "<div>\n",
       "<style scoped>\n",
       "    .dataframe tbody tr th:only-of-type {\n",
       "        vertical-align: middle;\n",
       "    }\n",
       "\n",
       "    .dataframe tbody tr th {\n",
       "        vertical-align: top;\n",
       "    }\n",
       "\n",
       "    .dataframe thead th {\n",
       "        text-align: right;\n",
       "    }\n",
       "</style>\n",
       "<table border=\"1\" class=\"dataframe\">\n",
       "  <thead>\n",
       "    <tr style=\"text-align: right;\">\n",
       "      <th></th>\n",
       "      <th>Age</th>\n",
       "      <th>Sex</th>\n",
       "      <th>ChestPainType</th>\n",
       "      <th>RestingBP</th>\n",
       "      <th>Cholesterol</th>\n",
       "      <th>FastingBS</th>\n",
       "      <th>RestingECG</th>\n",
       "      <th>MaxHR</th>\n",
       "      <th>ExerciseAngina</th>\n",
       "      <th>Oldpeak</th>\n",
       "      <th>ST_Slope</th>\n",
       "      <th>HeartDisease</th>\n",
       "    </tr>\n",
       "  </thead>\n",
       "  <tbody>\n",
       "    <tr>\n",
       "      <th>0</th>\n",
       "      <td>40</td>\n",
       "      <td>M</td>\n",
       "      <td>ATA</td>\n",
       "      <td>140</td>\n",
       "      <td>289</td>\n",
       "      <td>0</td>\n",
       "      <td>Normal</td>\n",
       "      <td>172</td>\n",
       "      <td>N</td>\n",
       "      <td>0.0</td>\n",
       "      <td>Up</td>\n",
       "      <td>0</td>\n",
       "    </tr>\n",
       "    <tr>\n",
       "      <th>1</th>\n",
       "      <td>49</td>\n",
       "      <td>F</td>\n",
       "      <td>NAP</td>\n",
       "      <td>160</td>\n",
       "      <td>180</td>\n",
       "      <td>0</td>\n",
       "      <td>Normal</td>\n",
       "      <td>156</td>\n",
       "      <td>N</td>\n",
       "      <td>1.0</td>\n",
       "      <td>Flat</td>\n",
       "      <td>1</td>\n",
       "    </tr>\n",
       "    <tr>\n",
       "      <th>2</th>\n",
       "      <td>37</td>\n",
       "      <td>M</td>\n",
       "      <td>ATA</td>\n",
       "      <td>130</td>\n",
       "      <td>283</td>\n",
       "      <td>0</td>\n",
       "      <td>ST</td>\n",
       "      <td>98</td>\n",
       "      <td>N</td>\n",
       "      <td>0.0</td>\n",
       "      <td>Up</td>\n",
       "      <td>0</td>\n",
       "    </tr>\n",
       "    <tr>\n",
       "      <th>3</th>\n",
       "      <td>48</td>\n",
       "      <td>F</td>\n",
       "      <td>ASY</td>\n",
       "      <td>138</td>\n",
       "      <td>214</td>\n",
       "      <td>0</td>\n",
       "      <td>Normal</td>\n",
       "      <td>108</td>\n",
       "      <td>Y</td>\n",
       "      <td>1.5</td>\n",
       "      <td>Flat</td>\n",
       "      <td>1</td>\n",
       "    </tr>\n",
       "    <tr>\n",
       "      <th>4</th>\n",
       "      <td>54</td>\n",
       "      <td>M</td>\n",
       "      <td>NAP</td>\n",
       "      <td>150</td>\n",
       "      <td>195</td>\n",
       "      <td>0</td>\n",
       "      <td>Normal</td>\n",
       "      <td>122</td>\n",
       "      <td>N</td>\n",
       "      <td>0.0</td>\n",
       "      <td>Up</td>\n",
       "      <td>0</td>\n",
       "    </tr>\n",
       "  </tbody>\n",
       "</table>\n",
       "</div>"
      ],
      "text/plain": [
       "   Age Sex ChestPainType  RestingBP  Cholesterol  FastingBS RestingECG  MaxHR  \\\n",
       "0   40   M           ATA        140          289          0     Normal    172   \n",
       "1   49   F           NAP        160          180          0     Normal    156   \n",
       "2   37   M           ATA        130          283          0         ST     98   \n",
       "3   48   F           ASY        138          214          0     Normal    108   \n",
       "4   54   M           NAP        150          195          0     Normal    122   \n",
       "\n",
       "  ExerciseAngina  Oldpeak ST_Slope  HeartDisease  \n",
       "0              N      0.0       Up             0  \n",
       "1              N      1.0     Flat             1  \n",
       "2              N      0.0       Up             0  \n",
       "3              Y      1.5     Flat             1  \n",
       "4              N      0.0       Up             0  "
      ]
     },
     "execution_count": 120,
     "metadata": {},
     "output_type": "execute_result"
    }
   ],
   "source": [
    "df.head() # this is for comparsion"
   ]
  },
  {
   "cell_type": "code",
   "execution_count": 121,
   "metadata": {},
   "outputs": [
    {
     "data": {
      "text/html": [
       "<div>\n",
       "<style scoped>\n",
       "    .dataframe tbody tr th:only-of-type {\n",
       "        vertical-align: middle;\n",
       "    }\n",
       "\n",
       "    .dataframe tbody tr th {\n",
       "        vertical-align: top;\n",
       "    }\n",
       "\n",
       "    .dataframe thead th {\n",
       "        text-align: right;\n",
       "    }\n",
       "</style>\n",
       "<table border=\"1\" class=\"dataframe\">\n",
       "  <thead>\n",
       "    <tr style=\"text-align: right;\">\n",
       "      <th></th>\n",
       "      <th>Age</th>\n",
       "      <th>Sex</th>\n",
       "      <th>ChestPainType</th>\n",
       "      <th>RestingBP</th>\n",
       "      <th>Cholesterol</th>\n",
       "      <th>FastingBS</th>\n",
       "      <th>RestingECG</th>\n",
       "      <th>MaxHR</th>\n",
       "      <th>ExerciseAngina</th>\n",
       "      <th>Oldpeak</th>\n",
       "      <th>ST_Slope</th>\n",
       "      <th>HeartDisease</th>\n",
       "    </tr>\n",
       "  </thead>\n",
       "  <tbody>\n",
       "    <tr>\n",
       "      <th>0</th>\n",
       "      <td>40</td>\n",
       "      <td>1</td>\n",
       "      <td>1</td>\n",
       "      <td>140</td>\n",
       "      <td>289</td>\n",
       "      <td>0</td>\n",
       "      <td>1</td>\n",
       "      <td>172</td>\n",
       "      <td>0</td>\n",
       "      <td>0.0</td>\n",
       "      <td>2</td>\n",
       "      <td>0</td>\n",
       "    </tr>\n",
       "    <tr>\n",
       "      <th>1</th>\n",
       "      <td>49</td>\n",
       "      <td>0</td>\n",
       "      <td>2</td>\n",
       "      <td>160</td>\n",
       "      <td>180</td>\n",
       "      <td>0</td>\n",
       "      <td>1</td>\n",
       "      <td>156</td>\n",
       "      <td>0</td>\n",
       "      <td>1.0</td>\n",
       "      <td>1</td>\n",
       "      <td>1</td>\n",
       "    </tr>\n",
       "    <tr>\n",
       "      <th>2</th>\n",
       "      <td>37</td>\n",
       "      <td>1</td>\n",
       "      <td>1</td>\n",
       "      <td>130</td>\n",
       "      <td>283</td>\n",
       "      <td>0</td>\n",
       "      <td>2</td>\n",
       "      <td>98</td>\n",
       "      <td>0</td>\n",
       "      <td>0.0</td>\n",
       "      <td>2</td>\n",
       "      <td>0</td>\n",
       "    </tr>\n",
       "    <tr>\n",
       "      <th>3</th>\n",
       "      <td>48</td>\n",
       "      <td>0</td>\n",
       "      <td>0</td>\n",
       "      <td>138</td>\n",
       "      <td>214</td>\n",
       "      <td>0</td>\n",
       "      <td>1</td>\n",
       "      <td>108</td>\n",
       "      <td>1</td>\n",
       "      <td>1.5</td>\n",
       "      <td>1</td>\n",
       "      <td>1</td>\n",
       "    </tr>\n",
       "    <tr>\n",
       "      <th>4</th>\n",
       "      <td>54</td>\n",
       "      <td>1</td>\n",
       "      <td>2</td>\n",
       "      <td>150</td>\n",
       "      <td>195</td>\n",
       "      <td>0</td>\n",
       "      <td>1</td>\n",
       "      <td>122</td>\n",
       "      <td>0</td>\n",
       "      <td>0.0</td>\n",
       "      <td>2</td>\n",
       "      <td>0</td>\n",
       "    </tr>\n",
       "  </tbody>\n",
       "</table>\n",
       "</div>"
      ],
      "text/plain": [
       "   Age  Sex  ChestPainType  RestingBP  Cholesterol  FastingBS  RestingECG  \\\n",
       "0   40    1              1        140          289          0           1   \n",
       "1   49    0              2        160          180          0           1   \n",
       "2   37    1              1        130          283          0           2   \n",
       "3   48    0              0        138          214          0           1   \n",
       "4   54    1              2        150          195          0           1   \n",
       "\n",
       "   MaxHR  ExerciseAngina  Oldpeak  ST_Slope  HeartDisease  \n",
       "0    172               0      0.0         2             0  \n",
       "1    156               0      1.0         1             1  \n",
       "2     98               0      0.0         2             0  \n",
       "3    108               1      1.5         1             1  \n",
       "4    122               0      0.0         2             0  "
      ]
     },
     "execution_count": 121,
     "metadata": {},
     "output_type": "execute_result"
    }
   ],
   "source": [
    "le = LabelEncoder()\n",
    "df['Sex'] = le.fit_transform(df['Sex'])\n",
    "df['ChestPainType'] = le.fit_transform(df['ChestPainType'])\n",
    "df['RestingECG'] = le.fit_transform(df['RestingECG'])\n",
    "df['ExerciseAngina'] = le.fit_transform(df['ExerciseAngina'])\n",
    "df['ST_Slope'] = le.fit_transform(df['ST_Slope'])\n",
    "\n",
    "df.head()"
   ]
  },
  {
   "cell_type": "markdown",
   "metadata": {},
   "source": [
    "Requirement：Feature Engineering (1)\n",
    "\n",
    "Check for duplicates & missing values. Drop, if present"
   ]
  },
  {
   "cell_type": "code",
   "execution_count": 122,
   "metadata": {},
   "outputs": [
    {
     "data": {
      "text/plain": [
       "Age               0\n",
       "Sex               0\n",
       "ChestPainType     0\n",
       "RestingBP         0\n",
       "Cholesterol       0\n",
       "FastingBS         0\n",
       "RestingECG        0\n",
       "MaxHR             0\n",
       "ExerciseAngina    0\n",
       "Oldpeak           0\n",
       "ST_Slope          0\n",
       "HeartDisease      0\n",
       "dtype: int64"
      ]
     },
     "execution_count": 122,
     "metadata": {},
     "output_type": "execute_result"
    }
   ],
   "source": [
    "df.isnull().sum() # it seems like there are no missing values"
   ]
  },
  {
   "cell_type": "code",
   "execution_count": 123,
   "metadata": {},
   "outputs": [
    {
     "name": "stdout",
     "output_type": "stream",
     "text": [
      "(918, 12)\n",
      "(918, 12)\n"
     ]
    }
   ],
   "source": [
    "print(df.shape)\n",
    "df = df.drop_duplicates(subset=None, keep='first', inplace=False)\n",
    "print(df.shape)\n",
    "# it seems like there are no duplicated values"
   ]
  },
  {
   "cell_type": "markdown",
   "metadata": {},
   "source": [
    "Visualization after encoding"
   ]
  },
  {
   "cell_type": "code",
   "execution_count": 124,
   "metadata": {},
   "outputs": [
    {
     "data": {
      "image/png": "[encoded data removed]",
      "text/plain": [
       "<Figure size 720x1080 with 12 Axes>"
      ]
     },
     "metadata": {},
     "output_type": "display_data"
    }
   ],
   "source": [
    "df.hist(bins=12,figsize=(10,15))\n",
    "plt.show()"
   ]
  },
  {
   "cell_type": "markdown",
   "metadata": {},
   "source": [
    "Requirement：Feature Engineering (2)\n",
    "\n",
    "There are some outliers in the dataset, (e.g., 0 cholesterol, negative oldpeak) handle them before building the model\n",
    "\n",
    "Check the outliers of [Age、RestingBP、Cholesterol、MaxHR、Oldpeak]\n",
    "\n",
    "- Age：null\n",
    "\n",
    "- RestingBP：<90 | >170\n",
    "\n",
    "- Cholesterol: =0 | >410\n",
    "\n",
    "- MaxHR: <65\n",
    "\n",
    "- Oldpeak: <-2 | >3.8\n"
   ]
  },
  {
   "cell_type": "code",
   "execution_count": 125,
   "metadata": {},
   "outputs": [
    {
     "data": {
      "image/png": "[encoded data removed]",
      "text/plain": [
       "<Figure size 1080x2160 with 5 Axes>"
      ]
     },
     "metadata": {},
     "output_type": "display_data"
    }
   ],
   "source": [
    "plt.figure(figsize=(15,30))\n",
    "sns.set_style(style='whitegrid')\n",
    "\n",
    "plt.subplot(5, 1, 1)\n",
    "sns.boxplot(x='Age',data=df)\n",
    "plt.subplot(5, 1, 2)\n",
    "sns.boxplot(x='RestingBP',data=df)\n",
    "plt.subplot(5, 1, 3)\n",
    "sns.boxplot(x='Cholesterol',data=df)\n",
    "plt.subplot(5, 1, 4)\n",
    "sns.boxplot(x='MaxHR',data=df)\n",
    "plt.subplot(5, 1, 5)\n",
    "sns.boxplot(x='Oldpeak',data=df)\n",
    "\n",
    "plt.show()"
   ]
  },
  {
   "cell_type": "markdown",
   "metadata": {},
   "source": [
    "Outlier Treatment\n",
    "\n",
    "- Age：null\n",
    "\n",
    "- RestingBP：<90 | >170\n",
    "\n",
    "- Cholesterol: =0 | >410\n",
    "\n",
    "- MaxHR: <65\n",
    "\n",
    "- Oldpeak: <-2 | >3.8"
   ]
  },
  {
   "cell_type": "code",
   "execution_count": 126,
   "metadata": {},
   "outputs": [
    {
     "name": "stdout",
     "output_type": "stream",
     "text": [
      "Age               214\n",
      "Sex               214\n",
      "ChestPainType     214\n",
      "RestingBP         214\n",
      "Cholesterol       214\n",
      "FastingBS         214\n",
      "RestingECG        214\n",
      "MaxHR             214\n",
      "ExerciseAngina    214\n",
      "Oldpeak           214\n",
      "ST_Slope          214\n",
      "HeartDisease      214\n",
      "dtype: int64\n"
     ]
    }
   ],
   "source": [
    "for i in df.columns:\n",
    "    df[i] = df[i].astype(int)\n",
    "\n",
    "df.loc[(df['RestingBP'] < 90) | (df['RestingBP'] > 170)] = np.nan\n",
    "df.loc[(df['Cholesterol'] == 0) | (df['Cholesterol'] > 410)] = np.nan\n",
    "df.loc[(df['MaxHR'] < 65)] = np.nan\n",
    "df.loc[(df['Oldpeak'] < 0) | (df['Oldpeak'] > 3.8)] = np.nan\n",
    "\n",
    "# df.loc[(df['Cholesterol'] == 0)] = np.nan\n",
    "# df.loc[(df['Oldpeak'] < 0)] = np.nan\n",
    "\n",
    "print(df.isnull().sum())\n",
    "df = df.dropna()"
   ]
  },
  {
   "cell_type": "markdown",
   "metadata": {},
   "source": [
    "Requirement：Feature Engineering (3)\n",
    "\n",
    "Check for class imbalance and handle, if necessary"
   ]
  },
  {
   "cell_type": "code",
   "execution_count": 127,
   "metadata": {},
   "outputs": [],
   "source": [
    "# from data, we can see distribution of the 'HeartDisease' is relatively balanced\n",
    "# There is no imbalance in the dataset"
   ]
  },
  {
   "cell_type": "markdown",
   "metadata": {},
   "source": [
    "Requirement：Multivariate Analysis\n",
    "\n",
    "Use a heatmap to check for correlation between predictor variables"
   ]
  },
  {
   "cell_type": "code",
   "execution_count": 128,
   "metadata": {},
   "outputs": [
    {
     "data": {
      "image/png": "[encoded data removed]",
      "text/plain": [
       "<Figure size 864x720 with 2 Axes>"
      ]
     },
     "metadata": {},
     "output_type": "display_data"
    }
   ],
   "source": [
    "corr = df.corr()\n",
    "plt.figure(figsize=(12, 10))\n",
    "sns.heatmap(corr,\n",
    "            xticklabels = corr.columns,\n",
    "            yticklabels = corr.columns,\n",
    "            annot=True)\n",
    "plt.show()"
   ]
  },
  {
   "cell_type": "markdown",
   "metadata": {},
   "source": [
    "Select the features based on correlation\n"
   ]
  },
  {
   "cell_type": "code",
   "execution_count": 129,
   "metadata": {},
   "outputs": [
    {
     "name": "stdout",
     "output_type": "stream",
     "text": [
      "ExerciseAngina  HeartDisease      0.552061\n",
      "HeartDisease    ExerciseAngina    0.552061\n",
      "Oldpeak         HeartDisease      0.484369\n",
      "HeartDisease    Oldpeak           0.484369\n",
      "ExerciseAngina  Oldpeak           0.469342\n",
      "Oldpeak         ExerciseAngina    0.469342\n",
      "Age             MaxHR            -0.404653\n",
      "MaxHR           Age              -0.404653\n",
      "ExerciseAngina  MaxHR            -0.413740\n",
      "MaxHR           ExerciseAngina   -0.413740\n",
      "ST_Slope        ExerciseAngina   -0.480982\n",
      "ExerciseAngina  ST_Slope         -0.480982\n",
      "ST_Slope        Oldpeak          -0.568856\n",
      "Oldpeak         ST_Slope         -0.568856\n",
      "ST_Slope        HeartDisease     -0.599526\n",
      "HeartDisease    ST_Slope         -0.599526\n",
      "dtype: float64\n"
     ]
    }
   ],
   "source": [
    "temp = corr.where(np.abs(corr) > 0.4).stack().sort_values(ascending=False)\n",
    "temp = temp.where(temp < 1).dropna()\n",
    "print(temp)"
   ]
  },
  {
   "cell_type": "markdown",
   "metadata": {},
   "source": [
    "Filter the features"
   ]
  },
  {
   "cell_type": "code",
   "execution_count": 130,
   "metadata": {},
   "outputs": [],
   "source": [
    "# df.drop(['Oldpeak'], axis=1, inplace=True)\n",
    "# df.head()\n",
    "# I have tested and all features are important, though there are some correlated ones"
   ]
  },
  {
   "cell_type": "markdown",
   "metadata": {},
   "source": [
    "Data segmentation into features and target"
   ]
  },
  {
   "cell_type": "code",
   "execution_count": 131,
   "metadata": {},
   "outputs": [],
   "source": [
    "df.to_pickle('heart_cleaned.pickle')\n",
    "y = df.pop('HeartDisease')\n",
    "X = df.copy()"
   ]
  },
  {
   "cell_type": "markdown",
   "metadata": {},
   "source": [
    "Requirement：Feature Engineering (5)\n",
    "\n",
    "Scale the data using a standard scaler\n"
   ]
  },
  {
   "cell_type": "code",
   "execution_count": 132,
   "metadata": {},
   "outputs": [
    {
     "data": {
      "text/html": [
       "<div>\n",
       "<style scoped>\n",
       "    .dataframe tbody tr th:only-of-type {\n",
       "        vertical-align: middle;\n",
       "    }\n",
       "\n",
       "    .dataframe tbody tr th {\n",
       "        vertical-align: top;\n",
       "    }\n",
       "\n",
       "    .dataframe thead th {\n",
       "        text-align: right;\n",
       "    }\n",
       "</style>\n",
       "<table border=\"1\" class=\"dataframe\">\n",
       "  <thead>\n",
       "    <tr style=\"text-align: right;\">\n",
       "      <th></th>\n",
       "      <th>Age</th>\n",
       "      <th>Sex</th>\n",
       "      <th>ChestPainType</th>\n",
       "      <th>RestingBP</th>\n",
       "      <th>Cholesterol</th>\n",
       "      <th>FastingBS</th>\n",
       "      <th>RestingECG</th>\n",
       "      <th>MaxHR</th>\n",
       "      <th>ExerciseAngina</th>\n",
       "      <th>Oldpeak</th>\n",
       "      <th>ST_Slope</th>\n",
       "    </tr>\n",
       "  </thead>\n",
       "  <tbody>\n",
       "    <tr>\n",
       "      <th>0</th>\n",
       "      <td>-1.332986</td>\n",
       "      <td>0.562039</td>\n",
       "      <td>0.144832</td>\n",
       "      <td>0.549306</td>\n",
       "      <td>0.962436</td>\n",
       "      <td>-0.439568</td>\n",
       "      <td>0.115426</td>\n",
       "      <td>1.288001</td>\n",
       "      <td>-0.776946</td>\n",
       "      <td>-0.755625</td>\n",
       "      <td>0.974379</td>\n",
       "    </tr>\n",
       "    <tr>\n",
       "      <th>1</th>\n",
       "      <td>-0.388794</td>\n",
       "      <td>-1.779236</td>\n",
       "      <td>1.185255</td>\n",
       "      <td>1.848521</td>\n",
       "      <td>-1.175766</td>\n",
       "      <td>-0.439568</td>\n",
       "      <td>0.115426</td>\n",
       "      <td>0.631231</td>\n",
       "      <td>-0.776946</td>\n",
       "      <td>0.381042</td>\n",
       "      <td>-0.749145</td>\n",
       "    </tr>\n",
       "    <tr>\n",
       "      <th>2</th>\n",
       "      <td>-1.647717</td>\n",
       "      <td>0.562039</td>\n",
       "      <td>0.144832</td>\n",
       "      <td>-0.100302</td>\n",
       "      <td>0.844737</td>\n",
       "      <td>-0.439568</td>\n",
       "      <td>1.708762</td>\n",
       "      <td>-1.749558</td>\n",
       "      <td>-0.776946</td>\n",
       "      <td>-0.755625</td>\n",
       "      <td>0.974379</td>\n",
       "    </tr>\n",
       "    <tr>\n",
       "      <th>3</th>\n",
       "      <td>-0.493704</td>\n",
       "      <td>-1.779236</td>\n",
       "      <td>-0.895592</td>\n",
       "      <td>0.419384</td>\n",
       "      <td>-0.508804</td>\n",
       "      <td>-0.439568</td>\n",
       "      <td>0.115426</td>\n",
       "      <td>-1.339078</td>\n",
       "      <td>1.287091</td>\n",
       "      <td>0.381042</td>\n",
       "      <td>-0.749145</td>\n",
       "    </tr>\n",
       "    <tr>\n",
       "      <th>4</th>\n",
       "      <td>0.135757</td>\n",
       "      <td>0.562039</td>\n",
       "      <td>1.185255</td>\n",
       "      <td>1.198913</td>\n",
       "      <td>-0.881518</td>\n",
       "      <td>-0.439568</td>\n",
       "      <td>0.115426</td>\n",
       "      <td>-0.764404</td>\n",
       "      <td>-0.776946</td>\n",
       "      <td>-0.755625</td>\n",
       "      <td>0.974379</td>\n",
       "    </tr>\n",
       "  </tbody>\n",
       "</table>\n",
       "</div>"
      ],
      "text/plain": [
       "        Age       Sex  ChestPainType  RestingBP  Cholesterol  FastingBS  \\\n",
       "0 -1.332986  0.562039       0.144832   0.549306     0.962436  -0.439568   \n",
       "1 -0.388794 -1.779236       1.185255   1.848521    -1.175766  -0.439568   \n",
       "2 -1.647717  0.562039       0.144832  -0.100302     0.844737  -0.439568   \n",
       "3 -0.493704 -1.779236      -0.895592   0.419384    -0.508804  -0.439568   \n",
       "4  0.135757  0.562039       1.185255   1.198913    -0.881518  -0.439568   \n",
       "\n",
       "   RestingECG     MaxHR  ExerciseAngina   Oldpeak  ST_Slope  \n",
       "0    0.115426  1.288001       -0.776946 -0.755625  0.974379  \n",
       "1    0.115426  0.631231       -0.776946  0.381042 -0.749145  \n",
       "2    1.708762 -1.749558       -0.776946 -0.755625  0.974379  \n",
       "3    0.115426 -1.339078        1.287091  0.381042 -0.749145  \n",
       "4    0.115426 -0.764404       -0.776946 -0.755625  0.974379  "
      ]
     },
     "execution_count": 132,
     "metadata": {},
     "output_type": "execute_result"
    }
   ],
   "source": [
    "ss = StandardScaler()\n",
    "columns = X.columns\n",
    "X = ss.fit_transform(X)\n",
    "X = pd.DataFrame(X, columns=columns)\n",
    "X.head()"
   ]
  },
  {
   "cell_type": "markdown",
   "metadata": {},
   "source": [
    "Dataset split into train and test"
   ]
  },
  {
   "cell_type": "code",
   "execution_count": 133,
   "metadata": {},
   "outputs": [],
   "source": [
    "X_train, X_test, y_train, y_test = train_test_split(X, y, test_size=0.3, random_state=42)"
   ]
  },
  {
   "cell_type": "markdown",
   "metadata": {},
   "source": [
    "KNN Model"
   ]
  },
  {
   "cell_type": "code",
   "execution_count": 134,
   "metadata": {},
   "outputs": [
    {
     "name": "stdout",
     "output_type": "stream",
     "text": [
      "Classification Report is:\n",
      "               precision    recall  f1-score   support\n",
      "\n",
      "         0.0       0.92      0.87      0.89       114\n",
      "         1.0       0.86      0.91      0.88        98\n",
      "\n",
      "    accuracy                           0.89       212\n",
      "   macro avg       0.89      0.89      0.89       212\n",
      "weighted avg       0.89      0.89      0.89       212\n",
      "\n",
      "the accuracy of this model is:  0.8867924528301887\n",
      "the F1 of this model is:  0.8811881188118811\n",
      "the precision of this model is:  0.8557692307692307\n",
      "the recall of this model is:  0.9081632653061225\n",
      "\n",
      " The confusion matrix of this model is:  \n",
      " [[99 15]\n",
      " [ 9 89]]\n",
      "\n",
      " The AUC of this model is 0.8882921589688508\n"
     ]
    },
    {
     "data": {
      "image/png": "[encoded data removed]",
      "text/plain": [
       "<Figure size 432x288 with 1 Axes>"
      ]
     },
     "metadata": {},
     "output_type": "display_data"
    }
   ],
   "source": [
    "model = KNeighborsClassifier()\n",
    "p=[1,2]\n",
    "weights = ['uniform', 'distance']\n",
    "metric = ['euclidean', 'manhattan', 'minkowski']\n",
    "\n",
    "hyperparameters = dict(p=p,weights=weights,metric=metric)\n",
    "\n",
    "cv = RepeatedStratifiedKFold(n_splits=10, n_repeats=3, random_state=1)\n",
    "grid_search = GridSearchCV(estimator=model, param_grid=hyperparameters, n_jobs=-1, cv=cv, scoring='f1',error_score=0)\n",
    "\n",
    "knn_model = grid_search.fit(X_train, y_train)\n",
    "\n",
    "y_predicted_knn = knn_model.predict(X_test)\n",
    "print(\"Classification Report is:\\n\",classification_report(y_test, y_predicted_knn))\n",
    "m = confusion_matrix(y_test , y_predicted_knn)\n",
    "print(\"the accuracy of this model is: \",\n",
    "      accuracy_score(y_test , y_predicted_knn))\n",
    "print(\"the F1 of this model is: \",\n",
    "      f1_score(y_test , y_predicted_knn))\n",
    "print(\"the precision of this model is: \",\n",
    "      precision_score(y_test , y_predicted_knn))\n",
    "print(\"the recall of this model is: \",\n",
    "      recall_score(y_test , y_predicted_knn))\n",
    "print(\"\\n The confusion matrix of this model is: \", \"\\n\", m)\n",
    "\n",
    "# Plotting the ROCCurve of bayes model\n",
    "fpr_bayes, tpr_bayes, thresold_bayes = roc_curve(y_test, y_predicted_knn)\n",
    "AUC = auc(fpr_bayes, tpr_bayes)\n",
    "print(f\"\\n The AUC of this model is {AUC}\")\n",
    "plt.figure()\n",
    "plt.plot(fpr_bayes, tpr_bayes, marker=\"o\")\n",
    "plt.show()"
   ]
  },
  {
   "cell_type": "markdown",
   "metadata": {},
   "source": [
    "SVM Model"
   ]
  },
  {
   "cell_type": "code",
   "execution_count": 135,
   "metadata": {},
   "outputs": [
    {
     "name": "stdout",
     "output_type": "stream",
     "text": [
      "Classification Report is:\n",
      "               precision    recall  f1-score   support\n",
      "\n",
      "         0.0       0.91      0.86      0.88       114\n",
      "         1.0       0.85      0.90      0.87        98\n",
      "\n",
      "    accuracy                           0.88       212\n",
      "   macro avg       0.88      0.88      0.88       212\n",
      "weighted avg       0.88      0.88      0.88       212\n",
      " \n",
      "\n",
      "the accuracy of this model is:  0.8773584905660378\n",
      "the F1 of this model is:  0.8712871287128713\n",
      "the precision of this model is:  0.8461538461538461\n",
      "the recall of this model is:  0.8979591836734694\n",
      "\n",
      " The confusion matrix of SVM is:  \n",
      " [[98 16]\n",
      " [10 88]]\n",
      "\n",
      " The AUC of this model is 0.8788041532402435\n"
     ]
    },
    {
     "data": {
      "image/png": "[encoded data removed]",
      "text/plain": [
       "<Figure size 432x288 with 1 Axes>"
      ]
     },
     "metadata": {},
     "output_type": "display_data"
    }
   ],
   "source": [
    "model = SVC()\n",
    "kernel = ['rbf']\n",
    "C = [50, 10, 1.0, 0.1, 0.01]\n",
    "gamma = ['scale', 'auto']\n",
    "\n",
    "grid = dict(kernel=kernel, C=C, gamma=gamma)\n",
    "cv = RepeatedStratifiedKFold(n_splits=10, n_repeats=3, random_state=1)\n",
    "grid_search = GridSearchCV(estimator=model, param_grid=grid, cv=cv, n_jobs=-1, scoring='f1',error_score=0)\n",
    "\n",
    "svm = grid_search.fit(X_train, y_train)\n",
    "\n",
    "y_predicted_svm = svm.predict(X_test)\n",
    "\n",
    "print(\"Classification Report is:\\n\",classification_report(y_test, y_predicted_svm), \"\\n\")\n",
    "m_svm = confusion_matrix(y_test , y_predicted_svm)\n",
    "print(\"the accuracy of this model is: \",\n",
    "      accuracy_score(y_test , y_predicted_svm))\n",
    "print(\"the F1 of this model is: \",\n",
    "      f1_score(y_test , y_predicted_svm))\n",
    "print(\"the precision of this model is: \",\n",
    "      precision_score(y_test , y_predicted_svm))\n",
    "print(\"the recall of this model is: \",\n",
    "      recall_score(y_test , y_predicted_svm))\n",
    "print(\"\\n The confusion matrix of SVM is: \", \"\\n\", m_svm)\n",
    "\n",
    "# # Plotting the ROCCurve of SVM\n",
    "fpr_svm, tpr_svm, thresold_svm = roc_curve(y_test, y_predicted_svm)\n",
    "AUC = auc(fpr_svm, tpr_svm)\n",
    "print(f\"\\n The AUC of this model is {AUC}\")\n",
    "plt.figure()\n",
    "plt.plot(fpr_svm, tpr_svm, marker=\"o\")\n",
    "plt.show()"
   ]
  },
  {
   "cell_type": "markdown",
   "metadata": {},
   "source": [
    "Decision Tree Model"
   ]
  },
  {
   "cell_type": "code",
   "execution_count": 136,
   "metadata": {},
   "outputs": [
    {
     "name": "stdout",
     "output_type": "stream",
     "text": [
      "Fitting 10 folds for each of 40 candidates, totalling 400 fits\n",
      "Classification Report is:\n",
      "               precision    recall  f1-score   support\n",
      "\n",
      "         0.0       0.90      0.78      0.84       114\n",
      "         1.0       0.78      0.90      0.83        98\n",
      "\n",
      "    accuracy                           0.83       212\n",
      "   macro avg       0.84      0.84      0.83       212\n",
      "weighted avg       0.84      0.83      0.83       212\n",
      "\n",
      "the accuracy of this model is:  0.8349056603773585\n",
      "the F1 of this model is:  0.8341232227488151\n",
      "the precision of this model is:  0.7787610619469026\n",
      "the recall of this model is:  0.8979591836734694\n",
      "\n",
      " The confusion matrix of decision tree is:  \n",
      " [[89 25]\n",
      " [10 88]]\n",
      "\n",
      " The AUC of this model is 0.8393304690297172\n"
     ]
    },
    {
     "data": {
      "image/png": "[encoded data removed]",
      "text/plain": [
       "<Figure size 432x288 with 1 Axes>"
      ]
     },
     "metadata": {},
     "output_type": "display_data"
    }
   ],
   "source": [
    "dt = DecisionTreeClassifier(random_state=42)\n",
    "params = {\n",
    "    'max_depth': [5, 10, 20,25],\n",
    "    'min_samples_leaf': [10, 20, 50, 100,120],\n",
    "    'criterion': [\"gini\", \"entropy\"]\n",
    "}\n",
    "\n",
    "grid_search = GridSearchCV(estimator=dt, \n",
    "                           param_grid=params, \n",
    "                           cv=10, n_jobs=-1, verbose=1, scoring = \"f1\")\n",
    "\n",
    "decision_tree = grid_search.fit(X_train, y_train)\n",
    "y_predicted_tree = decision_tree.predict(X_test)\n",
    "\n",
    "print(\"Classification Report is:\\n\",classification_report(y_test, y_predicted_tree))\n",
    "m_tree = confusion_matrix(y_test , y_predicted_tree)\n",
    "print(\"the accuracy of this model is: \",\n",
    "      accuracy_score(y_test , y_predicted_tree))\n",
    "print(\"the F1 of this model is: \",\n",
    "      f1_score(y_test , y_predicted_tree))\n",
    "print(\"the precision of this model is: \",\n",
    "      precision_score(y_test , y_predicted_tree))\n",
    "print(\"the recall of this model is: \",\n",
    "      recall_score(y_test , y_predicted_tree))\n",
    "print(\"\\n The confusion matrix of decision tree is: \", \"\\n\", m_tree)\n",
    "\n",
    "# Plotting the ROCCurve of decision tree\n",
    "fpr_tree, tpr_tree, thresold_tree = roc_curve(y_test, y_predicted_tree)\n",
    "AUC = auc(fpr_tree, tpr_tree)\n",
    "print(f\"\\n The AUC of this model is {AUC}\")\n",
    "plt.figure()\n",
    "plt.plot(fpr_tree, tpr_tree, marker=\"o\")\n",
    "plt.show()"
   ]
  },
  {
   "cell_type": "markdown",
   "metadata": {},
   "source": [
    "XGboost Model"
   ]
  },
  {
   "cell_type": "code",
   "execution_count": 137,
   "metadata": {},
   "outputs": [
    {
     "name": "stdout",
     "output_type": "stream",
     "text": [
      "Classification Report is:\n",
      "               precision    recall  f1-score   support\n",
      "\n",
      "         0.0       0.87      0.86      0.86       114\n",
      "         1.0       0.84      0.85      0.84        98\n",
      "\n",
      "    accuracy                           0.85       212\n",
      "   macro avg       0.85      0.85      0.85       212\n",
      "weighted avg       0.85      0.85      0.85       212\n",
      "\n",
      "the accuracy of this model is:  0.8537735849056604\n",
      "the F1 of this model is:  0.8426395939086294\n",
      "the precision of this model is:  0.8383838383838383\n",
      "the recall of this model is:  0.8469387755102041\n",
      "\n",
      " The confusion matrix of XGboost is:  \n",
      " [[98 16]\n",
      " [15 83]]\n",
      "\n",
      " The AUC of this model is 0.8532939491586108\n"
     ]
    },
    {
     "data": {
      "image/png": "[encoded data removed]",
      "text/plain": [
       "<Figure size 432x288 with 1 Axes>"
      ]
     },
     "metadata": {},
     "output_type": "display_data"
    }
   ],
   "source": [
    "xgb_clf = xgb.XGBClassifier(eval_metric='auc', n_jobs=-1)\n",
    "xgb_clf = xgb_clf.fit(X_train, y_train)\n",
    "\n",
    "y_predicted_xgb = xgb_clf.predict(X_test)\n",
    "\n",
    "print(\"Classification Report is:\\n\",classification_report(y_test, y_predicted_xgb))\n",
    "m_xgb = confusion_matrix(y_test , y_predicted_xgb)\n",
    "print(\"the accuracy of this model is: \",\n",
    "      accuracy_score(y_test , y_predicted_xgb))\n",
    "print(\"the F1 of this model is: \",\n",
    "      f1_score(y_test , y_predicted_xgb))\n",
    "print(\"the precision of this model is: \",\n",
    "      precision_score(y_test , y_predicted_xgb))\n",
    "print(\"the recall of this model is: \",\n",
    "      recall_score(y_test , y_predicted_xgb))\n",
    "print(\"\\n The confusion matrix of XGboost is: \", \"\\n\", m_xgb)\n",
    "\n",
    "# Plotting the ROCCurve of decision tree\n",
    "fpr_xgb, tpr_xgb, thresold_xgb = roc_curve(y_test, y_predicted_xgb)\n",
    "AUC = auc(fpr_xgb, tpr_xgb)\n",
    "print(f\"\\n The AUC of this model is {AUC}\")\n",
    "plt.figure()\n",
    "plt.plot(fpr_xgb, tpr_xgb, marker=\"o\")\n",
    "plt.show()"
   ]
  },
  {
   "cell_type": "markdown",
   "metadata": {},
   "source": [
    "Ensemble Model\n",
    "\n",
    "KNN(k=5), SVM(kernel=rbf), DT, XGboost"
   ]
  },
  {
   "cell_type": "code",
   "execution_count": 138,
   "metadata": {},
   "outputs": [
    {
     "name": "stdout",
     "output_type": "stream",
     "text": [
      "Classification Report is:\n",
      "               precision    recall  f1-score   support\n",
      "\n",
      "         0.0       0.91      0.89      0.90       114\n",
      "         1.0       0.88      0.90      0.89        98\n",
      "\n",
      "    accuracy                           0.90       212\n",
      "   macro avg       0.90      0.90      0.90       212\n",
      "weighted avg       0.90      0.90      0.90       212\n",
      "\n",
      "the accuracy of this model is:  0.8962264150943396\n",
      "the F1 of this model is:  0.888888888888889\n",
      "the precision of this model is:  0.88\n",
      "the recall of this model is:  0.8979591836734694\n",
      "\n",
      " The confusion matrix of ensemble model is:  \n",
      " [[102  12]\n",
      " [ 10  88]]\n",
      "\n",
      " The AUC of this model is 0.8963480128893664\n"
     ]
    },
    {
     "data": {
      "image/png": "[encoded data removed]",
      "text/plain": [
       "<Figure size 432x288 with 1 Axes>"
      ]
     },
     "metadata": {},
     "output_type": "display_data"
    }
   ],
   "source": [
    "knn_clf = KNeighborsClassifier(n_neighbors=5)\n",
    "svm_clf = SVC(kernel='rbf', probability=True)\n",
    "dt_clf = DecisionTreeClassifier(random_state=42)\n",
    "xgboost_clf = xgb.XGBClassifier(eval_metric='auc', n_jobs=-1)\n",
    "\n",
    "voting_clf = VotingClassifier(estimators=[('knn', knn_clf), \n",
    "                                          ('svm', svm_clf),\n",
    "                                          ('dt', dt_clf), \n",
    "                                          ('xgboost', xgboost_clf)], \n",
    "                              voting='soft', weights=[1, 1, 1, 1])\n",
    "\n",
    "# voting_clf = VotingClassifier(estimators=[('knn', knn_clf), \n",
    "#                                           ('svm', svm_clf),\n",
    "#                                           ('dt', dt_clf), \n",
    "#                                           ('xgboost', xgboost_clf)], \n",
    "#                               voting='hard')\n",
    "voting_clf.fit(X_train, y_train)\n",
    "\n",
    "y_predicted_voting = voting_clf.predict(X_test)\n",
    "\n",
    "print(\"Classification Report is:\\n\",classification_report(y_test, y_predicted_voting))\n",
    "m_voting = confusion_matrix(y_test , y_predicted_voting)\n",
    "print(\"the accuracy of this model is: \",\n",
    "      accuracy_score(y_test , y_predicted_voting))\n",
    "print(\"the F1 of this model is: \",\n",
    "      f1_score(y_test , y_predicted_voting))\n",
    "print(\"the precision of this model is: \",\n",
    "      precision_score(y_test , y_predicted_voting))\n",
    "print(\"the recall of this model is: \",\n",
    "      recall_score(y_test , y_predicted_voting))\n",
    "print(\"\\n The confusion matrix of ensemble model is: \", \"\\n\", m_voting)\n",
    "\n",
    "# Plotting the ROCCurve of decision tree\n",
    "fpr_voting, tpr_voting, thresold_voting= roc_curve(y_test, y_predicted_voting)\n",
    "AUC = auc(fpr_voting, tpr_voting)\n",
    "print(f\"\\n The AUC of this model is {AUC}\")\n",
    "plt.figure()\n",
    "plt.plot(fpr_voting, tpr_voting, marker=\"o\")\n",
    "plt.show()\n",
    "\n"
   ]
  },
  {
   "cell_type": "markdown",
   "metadata": {},
   "source": [
    "Neural Network Model"
   ]
  },
  {
   "cell_type": "markdown",
   "metadata": {},
   "source": [
    "activation function:\n",
    "- softmax: logic regression\n",
    "- Softplus：softplus(x)=log(1+e^x)\n",
    "- Relu：as biological neuron\n",
    "- tanh\n",
    "- sigmoid: S curve\n",
    "- hard_sigmoid: based on S curve\n",
    "- linear"
   ]
  },
  {
   "cell_type": "code",
   "execution_count": 141,
   "metadata": {},
   "outputs": [
    {
     "name": "stdout",
     "output_type": "stream",
     "text": [
      "Epoch 1/64\n",
      "4/4 [==============================] - 0s 2ms/step - loss: 0.3040 - accuracy: 0.5346\n",
      "Epoch 2/64\n",
      "4/4 [==============================] - 0s 2ms/step - loss: 0.2505 - accuracy: 0.5528\n",
      "Epoch 3/64\n",
      "4/4 [==============================] - 0s 2ms/step - loss: 0.2087 - accuracy: 0.6484\n",
      "Epoch 4/64\n",
      "4/4 [==============================] - 0s 3ms/step - loss: 0.1770 - accuracy: 0.7927\n",
      "Epoch 5/64\n",
      "4/4 [==============================] - 0s 3ms/step - loss: 0.1612 - accuracy: 0.8171\n",
      "Epoch 6/64\n",
      "4/4 [==============================] - 0s 3ms/step - loss: 0.1488 - accuracy: 0.8252\n",
      "Epoch 7/64\n",
      "4/4 [==============================] - 0s 3ms/step - loss: 0.1339 - accuracy: 0.8232\n",
      "Epoch 8/64\n",
      "4/4 [==============================] - 0s 4ms/step - loss: 0.1272 - accuracy: 0.8374\n",
      "Epoch 9/64\n",
      "4/4 [==============================] - 0s 3ms/step - loss: 0.1271 - accuracy: 0.8354\n",
      "Epoch 10/64\n",
      "4/4 [==============================] - 0s 2ms/step - loss: 0.1193 - accuracy: 0.8557\n",
      "Epoch 11/64\n",
      "4/4 [==============================] - 0s 3ms/step - loss: 0.1189 - accuracy: 0.8496\n",
      "Epoch 12/64\n",
      "4/4 [==============================] - 0s 3ms/step - loss: 0.1198 - accuracy: 0.8394\n",
      "Epoch 13/64\n",
      "4/4 [==============================] - 0s 5ms/step - loss: 0.1143 - accuracy: 0.8577\n",
      "Epoch 14/64\n",
      "4/4 [==============================] - 0s 3ms/step - loss: 0.1144 - accuracy: 0.8577\n",
      "Epoch 15/64\n",
      "4/4 [==============================] - 0s 3ms/step - loss: 0.1125 - accuracy: 0.8598\n",
      "Epoch 16/64\n",
      "4/4 [==============================] - 0s 2ms/step - loss: 0.1111 - accuracy: 0.8455\n",
      "Epoch 17/64\n",
      "4/4 [==============================] - 0s 2ms/step - loss: 0.1103 - accuracy: 0.8598\n",
      "Epoch 18/64\n",
      "4/4 [==============================] - 0s 3ms/step - loss: 0.1100 - accuracy: 0.8618\n",
      "Epoch 19/64\n",
      "4/4 [==============================] - 0s 4ms/step - loss: 0.1098 - accuracy: 0.8598\n",
      "Epoch 20/64\n",
      "4/4 [==============================] - 0s 3ms/step - loss: 0.1082 - accuracy: 0.8638\n",
      "Epoch 21/64\n",
      "4/4 [==============================] - 0s 3ms/step - loss: 0.1069 - accuracy: 0.8598\n",
      "Epoch 22/64\n",
      "4/4 [==============================] - 0s 3ms/step - loss: 0.1076 - accuracy: 0.8557\n",
      "Epoch 23/64\n",
      "4/4 [==============================] - 0s 3ms/step - loss: 0.1062 - accuracy: 0.8598\n",
      "Epoch 24/64\n",
      "4/4 [==============================] - 0s 2ms/step - loss: 0.1025 - accuracy: 0.8618\n",
      "Epoch 25/64\n",
      "4/4 [==============================] - 0s 3ms/step - loss: 0.1049 - accuracy: 0.8598\n",
      "Epoch 26/64\n",
      "4/4 [==============================] - 0s 4ms/step - loss: 0.1025 - accuracy: 0.8720\n",
      "Epoch 27/64\n",
      "4/4 [==============================] - 0s 2ms/step - loss: 0.1019 - accuracy: 0.8638\n",
      "Epoch 28/64\n",
      "4/4 [==============================] - 0s 2ms/step - loss: 0.1007 - accuracy: 0.8618\n",
      "Epoch 29/64\n",
      "4/4 [==============================] - 0s 3ms/step - loss: 0.1018 - accuracy: 0.8598\n",
      "Epoch 30/64\n",
      "4/4 [==============================] - 0s 3ms/step - loss: 0.1026 - accuracy: 0.8659\n",
      "Epoch 31/64\n",
      "4/4 [==============================] - 0s 3ms/step - loss: 0.1022 - accuracy: 0.8618\n",
      "Epoch 32/64\n",
      "4/4 [==============================] - 0s 3ms/step - loss: 0.0971 - accuracy: 0.8780\n",
      "Epoch 33/64\n",
      "4/4 [==============================] - 0s 3ms/step - loss: 0.0998 - accuracy: 0.8740\n",
      "Epoch 34/64\n",
      "4/4 [==============================] - 0s 2ms/step - loss: 0.0977 - accuracy: 0.8638\n",
      "Epoch 35/64\n",
      "4/4 [==============================] - 0s 3ms/step - loss: 0.0982 - accuracy: 0.8760\n",
      "Epoch 36/64\n",
      "4/4 [==============================] - 0s 3ms/step - loss: 0.1004 - accuracy: 0.8679\n",
      "Epoch 37/64\n",
      "4/4 [==============================] - 0s 3ms/step - loss: 0.0965 - accuracy: 0.8720\n",
      "Epoch 38/64\n",
      "4/4 [==============================] - 0s 3ms/step - loss: 0.0947 - accuracy: 0.8679\n",
      "Epoch 39/64\n",
      "4/4 [==============================] - 0s 3ms/step - loss: 0.0920 - accuracy: 0.8902\n",
      "Epoch 40/64\n",
      "4/4 [==============================] - 0s 4ms/step - loss: 0.0933 - accuracy: 0.8923\n",
      "Epoch 41/64\n",
      "4/4 [==============================] - 0s 5ms/step - loss: 0.0957 - accuracy: 0.8679\n",
      "Epoch 42/64\n",
      "4/4 [==============================] - 0s 3ms/step - loss: 0.0948 - accuracy: 0.8740\n",
      "Epoch 43/64\n",
      "4/4 [==============================] - 0s 2ms/step - loss: 0.0982 - accuracy: 0.8699\n",
      "Epoch 44/64\n",
      "4/4 [==============================] - 0s 3ms/step - loss: 0.0934 - accuracy: 0.8780\n",
      "Epoch 45/64\n",
      "4/4 [==============================] - 0s 2ms/step - loss: 0.0932 - accuracy: 0.8801\n",
      "Epoch 46/64\n",
      "4/4 [==============================] - 0s 2ms/step - loss: 0.0916 - accuracy: 0.8801\n",
      "Epoch 47/64\n",
      "4/4 [==============================] - 0s 11ms/step - loss: 0.0932 - accuracy: 0.8720\n",
      "Epoch 48/64\n",
      "4/4 [==============================] - 0s 3ms/step - loss: 0.0924 - accuracy: 0.8821\n",
      "Epoch 49/64\n",
      "4/4 [==============================] - 0s 3ms/step - loss: 0.0902 - accuracy: 0.8760\n",
      "Epoch 50/64\n",
      "4/4 [==============================] - 0s 4ms/step - loss: 0.0889 - accuracy: 0.8841\n",
      "Epoch 51/64\n",
      "4/4 [==============================] - 0s 3ms/step - loss: 0.0914 - accuracy: 0.8801\n",
      "Epoch 52/64\n",
      "4/4 [==============================] - 0s 2ms/step - loss: 0.0919 - accuracy: 0.8862\n",
      "Epoch 53/64\n",
      "4/4 [==============================] - 0s 3ms/step - loss: 0.0894 - accuracy: 0.8821\n",
      "Epoch 54/64\n",
      "4/4 [==============================] - 0s 3ms/step - loss: 0.0869 - accuracy: 0.8923\n",
      "Epoch 55/64\n",
      "4/4 [==============================] - 0s 3ms/step - loss: 0.0900 - accuracy: 0.8720\n",
      "Epoch 56/64\n",
      "4/4 [==============================] - 0s 4ms/step - loss: 0.0879 - accuracy: 0.8801\n",
      "Epoch 57/64\n",
      "4/4 [==============================] - 0s 3ms/step - loss: 0.0896 - accuracy: 0.8801\n",
      "Epoch 58/64\n",
      "4/4 [==============================] - 0s 3ms/step - loss: 0.0855 - accuracy: 0.8902\n",
      "Epoch 59/64\n",
      "4/4 [==============================] - 0s 3ms/step - loss: 0.0892 - accuracy: 0.8821\n",
      "Epoch 60/64\n",
      "4/4 [==============================] - 0s 2ms/step - loss: 0.0876 - accuracy: 0.8821\n",
      "Epoch 61/64\n",
      "4/4 [==============================] - 0s 2ms/step - loss: 0.0870 - accuracy: 0.8821\n",
      "Epoch 62/64\n",
      "4/4 [==============================] - 0s 3ms/step - loss: 0.0860 - accuracy: 0.8821\n",
      "Epoch 63/64\n",
      "4/4 [==============================] - 0s 2ms/step - loss: 0.0847 - accuracy: 0.8902\n",
      "Epoch 64/64\n",
      "4/4 [==============================] - 0s 3ms/step - loss: 0.0821 - accuracy: 0.9024\n",
      "4/4 [==============================] - 0s 1ms/step - loss: 0.0963 - accuracy: 0.8774\n",
      "The loss of the Neural Network classifier on test data is = 0.10\n",
      "The accuracy of the Neural Network classifier on test data is = 0.88\n"
     ]
    }
   ],
   "source": [
    "model = Sequential()\n",
    "activation_functions = ['relu', 'softplus', 'tanh', 'sigmoid']\n",
    "model.add(Dense(128, input_dim=X_train.shape[1], activation=activation_functions[0]))\n",
    "model.add(Dropout(rate=0.3, seed=100))\n",
    "model.add(Dense(64, activation=activation_functions[1]))\n",
    "model.add(Dense(1, activation=activation_functions[3]))\n",
    "\n",
    "model.compile(loss='mse',\n",
    "              optimizer='adam', metrics=['accuracy'])\n",
    "\n",
    "model.fit(X_train, y_train, epochs=64, batch_size=128, verbose=1)\n",
    "y_predicted_keras = model.predict(X_test)\n",
    "\n",
    "loss, accuracy = model.evaluate(X_test, y_test, batch_size=64, verbose=1)\n",
    "print(\n",
    "    \"The loss of the Neural Network classifier on test data is = {:.2f}\".format(loss))\n",
    "print(\"The accuracy of the Neural Network classifier on test data is = {:.2f}\".format(\n",
    "    accuracy))"
   ]
  },
  {
   "cell_type": "markdown",
   "metadata": {},
   "source": [
    "## Comparison of Models\n",
    "\n",
    "1. accuracy_score: Keras > KNN > SVM > Xgboost > DT\n",
    "2. F1 score: KNN > SVM > Xgboost > DT\n",
    "3. precision_score: KNN > SVM > Xgboost >> DT\n",
    "4. Recall score: KNN > SVM = DT > Xgboost"
   ]
  },
  {
   "cell_type": "markdown",
   "metadata": {},
   "source": [
    "## Comparison of ensemble models\n",
    "1. The performance of \"soft\" voting is overall better than \"hard\" voting.\n",
    "2. The performance of ensemble model is similar to the performance of the deep learning model."
   ]
  },
  {
   "cell_type": "markdown",
   "metadata": {},
   "source": [
    "## Analysis of The Deep Learning Model\n",
    "### The effect of the number of neuron units\n",
    "The results of the units of three dense layers are:\n",
    "1. 128, 64, 1:\n",
    "   loss: 0.11 accuracy: 0.87\n",
    "2. 256, 128, 1:\n",
    "   loss: 0.11 accuracy: 0.87\n",
    "3. 512, 256, 1:\n",
    "   loss: 0.12 accuracy: 0.86\n",
    "\n",
    "### The effect of the activation function\n",
    "1. 'relu':\n",
    "   loss: 0.11 accuracy: 0.87\n",
    "2. 'softplus':\n",
    "   loss: 0.12 accuracy: 0.83\n",
    "3. 'tanh':\n",
    "   loss: 0.11 accuracy: 0.85\n",
    "4. 'sigmoid':\n",
    "   loss: 0.11 accuracy: 0.86\n",
    "5. 'relu' + 'softplus' + 'sigmoid':\n",
    "   loss: 0.10 accuracy: 0.88\n",
    "\n",
    "### The effect of the number of loss function\n",
    "1. 'binary_crossentropy':\n",
    "   loss: 0.32 accuracy: 0.88\n",
    "2. 'mse':\n",
    "   loss: 0.09 accuracy: 0.87\n",
    "\n",
    "### The effect of the dropout rate\n",
    "1. rate=0.1:\n",
    "   loss: 0.10 accuracy: 0.87\n",
    "2. rate=0.3:\n",
    "   loss: 0.09 accuracy: 0.89\n",
    "3. rate=0.5:\n",
    "   loss: 0.10 accuracy: 0.88\n",
    "4. rate=0.7:\n",
    "   loss: 0.10 accuracy: 0.87\n",
    "5. rate=0.9:\n",
    "   loss: 0.10 accuracy: 0.85"
   ]
  },
  {
   "cell_type": "markdown",
   "metadata": {},
   "source": [
    "## Conclusion\n",
    "1. The value of dropout rate is used to control the robustness of the model. A adequate value of dropout rate could prevent overfitting. The value of dropout rate usually is between 0.3 with 0.5.\n",
    "2. The performance of activation function is important. The best activation function could be the combination of 'relu' + 'softplus' + 'sigmoid'.\n",
    "3. The best model for this dataset is KNN. The worst model for this dataset is Decision Tree.\n",
    "4. The ensemble model is better than its individual model."
   ]
  }
 ],
 "metadata": {
  "interpreter": {
   "hash": "cfb9faa6c199a2fb505113f3706fa9708ecb04ca13c3c465a0dea59210ef3a5f"
  },
  "kernelspec": {
   "display_name": "Python 3.9.5 ('base')",
   "language": "python",
   "name": "python3"
  },
  "language_info": {
   "codemirror_mode": {
    "name": "ipython",
    "version": 3
   },
   "file_extension": ".py",
   "mimetype": "text/x-python",
   "name": "python",
   "nbconvert_exporter": "python",
   "pygments_lexer": "ipython3",
   "version": "3.9.5"
  },
  "orig_nbformat": 4
 },
 "nbformat": 4,
 "nbformat_minor": 2
}
